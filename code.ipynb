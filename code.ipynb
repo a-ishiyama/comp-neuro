{
 "cells": [
  {
   "cell_type": "code",
   "execution_count": 1,
   "metadata": {},
   "outputs": [],
   "source": [
    "import numpy as np\n",
    "import scipy as sp\n",
    "import matplotlib.pyplot as plt\n",
    "import pandas as pd"
   ]
  },
  {
   "cell_type": "code",
   "execution_count": 62,
   "metadata": {},
   "outputs": [
    {
     "name": "stdout",
     "output_type": "stream",
     "text": [
      "[[0 0 1 ... 0 0 1]\n",
      " [0 1 1 ... 1 0 1]\n",
      " [0 1 1 ... 0 0 0]\n",
      " ...\n",
      " [0 0 0 ... 0 1 0]\n",
      " [1 1 0 ... 0 1 0]\n",
      " [1 0 0 ... 0 1 0]]\n"
     ]
    }
   ],
   "source": [
    "stai_scores = np.array(pd.read_csv(r'stai_scores.csv', header=None)[0])\n",
    "inst_choices = np.array(pd.read_csv(r'inst_choices.csv', header=None))\n",
    "inst_outcomes = np.array(pd.read_csv(r'inst_outcomes.csv', header=None))\n",
    "print(inst_outcomes)"
   ]
  },
  {
   "attachments": {},
   "cell_type": "markdown",
   "metadata": {},
   "source": [
    "### Data exploration"
   ]
  },
  {
   "cell_type": "code",
   "execution_count": 36,
   "metadata": {},
   "outputs": [],
   "source": [
    "# Exploring the data: mean, median, standard deviation of STAI\n",
    "overall_mean = np.mean(stai_scores)\n",
    "overall_std = np.std(stai_scores)\n",
    "overall_median = np.median(stai_scores)\n",
    "\n",
    "anxious_mean = np.mean(stai_scores[0:24])\n",
    "anxious_std = np.std(stai_scores[0:24])\n",
    "anxious_median = np.median(stai_scores[0:24])\n",
    "\n",
    "control_mean = np.mean(stai_scores[25:])\n",
    "control_std = np.std(stai_scores[25:])\n",
    "control_median = np.median(stai_scores[25:])"
   ]
  },
  {
   "cell_type": "code",
   "execution_count": 35,
   "metadata": {},
   "outputs": [],
   "source": [
    "# Exploring the data: cut-off = 43, ANXIOUS group if STAI>43\n",
    "cut_off_stai = np.zeros(len(stai_scores))\n",
    "for i in range(len(stai_scores)):\n",
    "    if stai_scores[i] <= 43:\n",
    "        # cut_off_stai = 1 if the subject is in the healthy control group\n",
    "        cut_off_stai[i] = 1\n",
    "\n",
    "healthy_num = sum(cut_off_stai)\n",
    "healthy_index = np.where(cut_off_stai==1)"
   ]
  },
  {
   "cell_type": "code",
   "execution_count": 59,
   "metadata": {},
   "outputs": [],
   "source": [
    "# Exploring the data: number of times each subject choosing stimuli A\n",
    "chose_a_count = []\n",
    "chose_a_percent = []\n",
    "for i in range(len(inst_choices)):\n",
    "    chose_a_count.append(np.array(np.where(inst_choices[i]==1)).size)\n",
    "    chose_a_percent.append(chose_a_count[-1]/len(inst_choices[i]))"
   ]
  },
  {
   "attachments": {},
   "cell_type": "markdown",
   "metadata": {},
   "source": [
    "### Simulation\n"
   ]
  },
  {
   "cell_type": "code",
   "execution_count": 160,
   "metadata": {},
   "outputs": [],
   "source": [
    "# Value of a chosen stimuli i at time t\n",
    "# the probability of each stimulus to lead to the aversive noise, 70/30, 80/20, 60/40, 65/35\n",
    "prob_list = [[0.3,0.7],[0.2,0.8],[0.4,0.6],[0.35,0.65]]\n",
    "\n",
    "def gen_outcome(a):\n",
    "    first = np.random.choice([0, 1], size=40, p=a[0])\n",
    "    second = np.random.choice([0, 1], size=40, p=a[1])\n",
    "    third = np.random.choice([0, 1], size=40, p=a[2])\n",
    "    forth = np.random.choice([0, 1], size=40, p=a[3])\n",
    "    array = np.concatenate((first,second,third,forth))\n",
    "    return array\n",
    "\n",
    "def stimuli_value(V0, a, outcome):\n",
    "    value = np.zeros(len(outcome.T))\n",
    "    value[0] = V0\n",
    "    for i in range(2,len(outcome.T)):\n",
    "        value[i] = value[i-1] + a*(outcome[i-1]-value[i-1])\n",
    "    return value"
   ]
  },
  {
   "cell_type": "code",
   "execution_count": 192,
   "metadata": {},
   "outputs": [],
   "source": [
    "\n",
    "np.random.seed(1)\n",
    "outcome_a = gen_outcome(prob_list)\n",
    "outcome_b = 1 - outcome_a\n",
    "value_a = stimuli_value(0.5,0.4,outcome_a)\n",
    "value_b = stimuli_value(0.5,0.4,outcome_b)"
   ]
  }
 ],
 "metadata": {
  "kernelspec": {
   "display_name": "base",
   "language": "python",
   "name": "python3"
  },
  "language_info": {
   "codemirror_mode": {
    "name": "ipython",
    "version": 3
   },
   "file_extension": ".py",
   "mimetype": "text/x-python",
   "name": "python",
   "nbconvert_exporter": "python",
   "pygments_lexer": "ipython3",
   "version": "3.9.16"
  },
  "orig_nbformat": 4
 },
 "nbformat": 4,
 "nbformat_minor": 2
}
