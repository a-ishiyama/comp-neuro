{
 "cells": [
  {
   "cell_type": "code",
   "execution_count": 1,
   "metadata": {},
   "outputs": [],
   "source": [
    "import numpy as np\n",
    "import scipy as sp\n",
    "import matplotlib.pyplot as plt\n",
    "import pandas as pd"
   ]
  },
  {
   "cell_type": "code",
   "execution_count": 46,
   "metadata": {},
   "outputs": [],
   "source": [
    "stai_scores = np.array(pd.read_csv(r'stai_scores.csv', header=None)[0])\n",
    "inst_choices = np.array(pd.read_csv(r'inst_choices.csv', header=None))\n",
    "inst_outcomes = np.array(pd.read_csv(r'inst_outcomes.csv', header=None))"
   ]
  },
  {
   "attachments": {},
   "cell_type": "markdown",
   "metadata": {},
   "source": [
    "### Data exploration"
   ]
  },
  {
   "cell_type": "code",
   "execution_count": 36,
   "metadata": {},
   "outputs": [],
   "source": [
    "# Exploring the data: mean, median, standard deviation of STAI\n",
    "overall_mean = np.mean(stai_scores)\n",
    "overall_std = np.std(stai_scores)\n",
    "overall_median = np.median(stai_scores)\n",
    "\n",
    "anxious_mean = np.mean(stai_scores[0:24])\n",
    "anxious_std = np.std(stai_scores[0:24])\n",
    "anxious_median = np.median(stai_scores[0:24])\n",
    "\n",
    "control_mean = np.mean(stai_scores[25:])\n",
    "control_std = np.std(stai_scores[25:])\n",
    "control_median = np.median(stai_scores[25:])"
   ]
  },
  {
   "cell_type": "code",
   "execution_count": 35,
   "metadata": {},
   "outputs": [],
   "source": [
    "# Exploring the data: cut-off = 43, ANXIOUS group if STAI>43\n",
    "cut_off_stai = np.zeros(len(stai_scores))\n",
    "for i in range(len(stai_scores)):\n",
    "    if stai_scores[i] <= 43:\n",
    "        # cut_off_stai = 1 if the subject is in the healthy control group\n",
    "        cut_off_stai[i] = 1\n",
    "\n",
    "healthy_num = sum(cut_off_stai)\n",
    "healthy_index = np.where(cut_off_stai==1)"
   ]
  },
  {
   "cell_type": "code",
   "execution_count": 59,
   "metadata": {},
   "outputs": [],
   "source": [
    "# Exploring the data: number of times each subject choosing stimuli A\n",
    "chose_a_count = []\n",
    "chose_a_percent = []\n",
    "for i in range(len(inst_choices)):\n",
    "    chose_a_count.append(np.array(np.where(inst_choices[i]==1)).size)\n",
    "    chose_a_percent.append(chose_a_count[-1]/len(inst_choices[i]))"
   ]
  },
  {
   "cell_type": "code",
   "execution_count": null,
   "metadata": {},
   "outputs": [],
   "source": []
  }
 ],
 "metadata": {
  "kernelspec": {
   "display_name": "base",
   "language": "python",
   "name": "python3"
  },
  "language_info": {
   "codemirror_mode": {
    "name": "ipython",
    "version": 3
   },
   "file_extension": ".py",
   "mimetype": "text/x-python",
   "name": "python",
   "nbconvert_exporter": "python",
   "pygments_lexer": "ipython3",
   "version": "3.9.16"
  },
  "orig_nbformat": 4
 },
 "nbformat": 4,
 "nbformat_minor": 2
}
